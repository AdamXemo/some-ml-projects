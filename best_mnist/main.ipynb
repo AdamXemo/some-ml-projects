{
 "cells": [
  {
   "cell_type": "code",
   "execution_count": 32,
   "metadata": {},
   "outputs": [],
   "source": [
    "from keras.datasets.mnist import load_data\n",
    "from keras.models import Sequential, load_model\n",
    "\n",
    "from sklearn.cluster import KMeans\n",
    "\n",
    "import numpy as np\n",
    "import matplotlib.pyplot as plt"
   ]
  },
  {
   "cell_type": "code",
   "execution_count": 37,
   "metadata": {},
   "outputs": [],
   "source": [
    "(X_train, y_train), (X_test, y_test) = load_data()\n",
    "\n",
    "X_train = X_train[:10000].reshape(10000, 784, 1) / 255.\n",
    "X_test = X_test[:2000].reshape(2000, 784, 1) / 255.\n",
    "\n",
    "y_train = y_train[:10000]\n",
    "y_test = y_test[:2000]"
   ]
  },
  {
   "cell_type": "code",
   "execution_count": 15,
   "metadata": {},
   "outputs": [
    {
     "data": {
      "text/plain": [
       "[0.5, 1.0, 1.5, 2.0, 2.5, 3.0, 3.5, 4.0, 4.5, 5.0]"
      ]
     },
     "execution_count": 15,
     "metadata": {},
     "output_type": "execute_result"
    }
   ],
   "source": [
    "arr = [1, 2, 3, 4, 5, 6, 7, 8, 9, 10]\n",
    "for i, el in enumerate(arr):\n",
    "    arr[i] = el / 2\n",
    "\n",
    "arr"
   ]
  },
  {
   "cell_type": "code",
   "execution_count": 17,
   "metadata": {},
   "outputs": [
    {
     "name": "stdout",
     "output_type": "stream",
     "text": [
      "0 images segmented\n",
      "100 images segmented\n",
      "200 images segmented\n",
      "300 images segmented\n",
      "400 images segmented\n",
      "500 images segmented\n",
      "600 images segmented\n",
      "700 images segmented\n",
      "800 images segmented\n",
      "900 images segmented\n",
      "1000 images segmented\n",
      "1100 images segmented\n",
      "1200 images segmented\n",
      "1300 images segmented\n",
      "1400 images segmented\n",
      "1500 images segmented\n",
      "1600 images segmented\n",
      "1700 images segmented\n",
      "1800 images segmented\n",
      "1900 images segmented\n"
     ]
    }
   ],
   "source": [
    "kmeans = KMeans(n_clusters=2, n_init=1, tol=0.1, max_iter=10)\n",
    "for i, x in enumerate(X_test):\n",
    "    kmeans.fit(x)\n",
    "    x_s = kmeans.cluster_centers_[kmeans.labels_]\n",
    "    X_test[i] = x_s\n",
    "    if i % 100 == 0:\n",
    "        print(i, 'images segmented')"
   ]
  },
  {
   "cell_type": "code",
   "execution_count": 19,
   "metadata": {},
   "outputs": [
    {
     "name": "stdout",
     "output_type": "stream",
     "text": [
      "0 images segmented\n",
      "100 images segmented\n",
      "200 images segmented\n",
      "300 images segmented\n",
      "400 images segmented\n",
      "500 images segmented\n",
      "600 images segmented\n",
      "700 images segmented\n",
      "800 images segmented\n",
      "900 images segmented\n",
      "1000 images segmented\n",
      "1100 images segmented\n",
      "1200 images segmented\n",
      "1300 images segmented\n",
      "1400 images segmented\n",
      "1500 images segmented\n",
      "1600 images segmented\n",
      "1700 images segmented\n",
      "1800 images segmented\n",
      "1900 images segmented\n",
      "2000 images segmented\n",
      "2100 images segmented\n",
      "2200 images segmented\n",
      "2300 images segmented\n",
      "2400 images segmented\n",
      "2500 images segmented\n",
      "2600 images segmented\n",
      "2700 images segmented\n",
      "2800 images segmented\n",
      "2900 images segmented\n",
      "3000 images segmented\n",
      "3100 images segmented\n",
      "3200 images segmented\n",
      "3300 images segmented\n",
      "3400 images segmented\n",
      "3500 images segmented\n",
      "3600 images segmented\n",
      "3700 images segmented\n",
      "3800 images segmented\n",
      "3900 images segmented\n",
      "4000 images segmented\n",
      "4100 images segmented\n",
      "4200 images segmented\n",
      "4300 images segmented\n",
      "4400 images segmented\n",
      "4500 images segmented\n",
      "4600 images segmented\n",
      "4700 images segmented\n",
      "4800 images segmented\n",
      "4900 images segmented\n",
      "5000 images segmented\n",
      "5100 images segmented\n",
      "5200 images segmented\n",
      "5300 images segmented\n",
      "5400 images segmented\n",
      "5500 images segmented\n",
      "5600 images segmented\n",
      "5700 images segmented\n",
      "5800 images segmented\n",
      "5900 images segmented\n",
      "6000 images segmented\n",
      "6100 images segmented\n",
      "6200 images segmented\n",
      "6300 images segmented\n",
      "6400 images segmented\n",
      "6500 images segmented\n",
      "6600 images segmented\n",
      "6700 images segmented\n",
      "6800 images segmented\n",
      "6900 images segmented\n",
      "7000 images segmented\n",
      "7100 images segmented\n",
      "7200 images segmented\n",
      "7300 images segmented\n",
      "7400 images segmented\n",
      "7500 images segmented\n",
      "7600 images segmented\n",
      "7700 images segmented\n",
      "7800 images segmented\n",
      "7900 images segmented\n",
      "8000 images segmented\n",
      "8100 images segmented\n",
      "8200 images segmented\n",
      "8300 images segmented\n",
      "8400 images segmented\n",
      "8500 images segmented\n",
      "8600 images segmented\n",
      "8700 images segmented\n",
      "8800 images segmented\n",
      "8900 images segmented\n",
      "9000 images segmented\n",
      "9100 images segmented\n",
      "9200 images segmented\n",
      "9300 images segmented\n",
      "9400 images segmented\n",
      "9500 images segmented\n",
      "9600 images segmented\n",
      "9700 images segmented\n",
      "9800 images segmented\n",
      "9900 images segmented\n"
     ]
    }
   ],
   "source": [
    "kmeans = KMeans(n_clusters=2, n_init=1, tol=0.1, max_iter=10)\n",
    "for i, x in enumerate(X_train):\n",
    "    kmeans.fit(x)\n",
    "    x_s = kmeans.cluster_centers_[kmeans.labels_]\n",
    "    X_train[i] = x_s\n",
    "    if i % 100 == 0:\n",
    "        print(i, 'images segmented')"
   ]
  },
  {
   "cell_type": "code",
   "execution_count": 21,
   "metadata": {},
   "outputs": [
    {
     "data": {
      "text/plain": [
       "<matplotlib.image.AxesImage at 0x7f48351f3280>"
      ]
     },
     "execution_count": 21,
     "metadata": {},
     "output_type": "execute_result"
    },
    {
     "data": {
      "image/png": "[encoded data removed]",
      "text/plain": [
       "<Figure size 640x480 with 1 Axes>"
      ]
     },
     "metadata": {},
     "output_type": "display_data"
    }
   ],
   "source": [
    "plt.imshow(X_train[12].reshape(28, 28), cmap='gray')"
   ]
  },
  {
   "cell_type": "code",
   "execution_count": 24,
   "metadata": {},
   "outputs": [
    {
     "name": "stderr",
     "output_type": "stream",
     "text": [
      "2023-01-09 11:11:50.972142: W tensorflow/compiler/xla/stream_executor/platform/default/dso_loader.cc:64] Could not load dynamic library 'libcuda.so.1'; dlerror: libcuda.so.1: cannot open shared object file: No such file or directory\n",
      "2023-01-09 11:11:50.972213: W tensorflow/compiler/xla/stream_executor/cuda/cuda_driver.cc:265] failed call to cuInit: UNKNOWN ERROR (303)\n",
      "2023-01-09 11:11:50.972288: I tensorflow/compiler/xla/stream_executor/cuda/cuda_diagnostics.cc:156] kernel driver does not appear to be running on this host (fedora): /proc/driver/nvidia/version does not exist\n",
      "2023-01-09 11:11:51.000861: I tensorflow/core/platform/cpu_feature_guard.cc:193] This TensorFlow binary is optimized with oneAPI Deep Neural Network Library (oneDNN) to use the following CPU instructions in performance-critical operations:  AVX2 FMA\n",
      "To enable them in other operations, rebuild TensorFlow with the appropriate compiler flags.\n"
     ]
    }
   ],
   "source": [
    "model = load_model(\n",
    "'/home/adam/Development/Machine_learning/Study/Hands-on-Machine-Learning/3. mnist_classification/models/best_accuracy.h5'\n",
    ")"
   ]
  },
  {
   "cell_type": "code",
   "execution_count": 46,
   "metadata": {},
   "outputs": [
    {
     "name": "stderr",
     "output_type": "stream",
     "text": [
      "2023-01-09 11:18:15.388778: W tensorflow/tsl/framework/cpu_allocator_impl.cc:82] Allocation of 31360000 exceeds 10% of free system memory.\n"
     ]
    },
    {
     "name": "stdout",
     "output_type": "stream",
     "text": [
      "313/313 [==============================] - 8s 26ms/step\n"
     ]
    }
   ],
   "source": [
    "predictions = model.predict(X_train.reshape(10000, 28, 28))"
   ]
  },
  {
   "cell_type": "code",
   "execution_count": 44,
   "metadata": {},
   "outputs": [],
   "source": [
    "def accuracy(y_true, y_pred):\n",
    "    return print(f'accuracy :{round(sum([np.argmax(y_pred[i]) == y_true[i] for i in range(len(y_true))]) / len(y_true) * 100, 1)}%')"
   ]
  },
  {
   "cell_type": "code",
   "execution_count": 35,
   "metadata": {},
   "outputs": [
    {
     "data": {
      "text/plain": [
       "(2000, 10)"
      ]
     },
     "execution_count": 35,
     "metadata": {},
     "output_type": "execute_result"
    }
   ],
   "source": [
    "predictions.shape"
   ]
  },
  {
   "cell_type": "code",
   "execution_count": 36,
   "metadata": {},
   "outputs": [
    {
     "data": {
      "text/plain": [
       "(10000,)"
      ]
     },
     "execution_count": 36,
     "metadata": {},
     "output_type": "execute_result"
    }
   ],
   "source": [
    "y_test.shape"
   ]
  },
  {
   "cell_type": "code",
   "execution_count": 47,
   "metadata": {},
   "outputs": [
    {
     "name": "stdout",
     "output_type": "stream",
     "text": [
      "accuracy :9.8%\n"
     ]
    }
   ],
   "source": [
    "accuracy(y_test, predictions)"
   ]
  }
 ],
 "metadata": {
  "kernelspec": {
   "display_name": "Python 3.10.8 ('tf')",
   "language": "python",
   "name": "python3"
  },
  "language_info": {
   "codemirror_mode": {
    "name": "ipython",
    "version": 3
   },
   "file_extension": ".py",
   "mimetype": "text/x-python",
   "name": "python",
   "nbconvert_exporter": "python",
   "pygments_lexer": "ipython3",
   "version": "3.10.8 (main, Nov  4 2022, 13:48:29) [GCC 11.2.0]"
  },
  "orig_nbformat": 4,
  "vscode": {
   "interpreter": {
    "hash": "3b0aa965317cfd9b7f627f76b53dc5fd0eb452297bd10ba63e8cb1466a4239f8"
   }
  }
 },
 "nbformat": 4,
 "nbformat_minor": 2
}
