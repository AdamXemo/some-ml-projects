{
 "cells": [
  {
   "attachments": {},
   "cell_type": "markdown",
   "metadata": {},
   "source": [
    "Loading data"
   ]
  },
  {
   "cell_type": "code",
   "execution_count": 1,
   "metadata": {},
   "outputs": [],
   "source": [
    "import pandas as pd\n",
    "\n",
    "data = pd.read_csv('/home/adam/Datasets/CarPrice.csv')"
   ]
  },
  {
   "attachments": {},
   "cell_type": "markdown",
   "metadata": {},
   "source": [
    "Checking amount of samples, features, datatypes etc."
   ]
  },
  {
   "cell_type": "code",
   "execution_count": 2,
   "metadata": {},
   "outputs": [
    {
     "name": "stdout",
     "output_type": "stream",
     "text": [
      "<class 'pandas.core.frame.DataFrame'>\n",
      "RangeIndex: 4340 entries, 0 to 4339\n",
      "Data columns (total 8 columns):\n",
      " #   Column         Non-Null Count  Dtype \n",
      "---  ------         --------------  ----- \n",
      " 0   name           4340 non-null   object\n",
      " 1   year           4340 non-null   int64 \n",
      " 2   selling_price  4340 non-null   int64 \n",
      " 3   km_driven      4340 non-null   int64 \n",
      " 4   fuel           4340 non-null   object\n",
      " 5   seller_type    4340 non-null   object\n",
      " 6   transmission   4340 non-null   object\n",
      " 7   owner          4340 non-null   object\n",
      "dtypes: int64(3), object(5)\n",
      "memory usage: 271.4+ KB\n"
     ]
    }
   ],
   "source": [
    "data.info()"
   ]
  },
  {
   "attachments": {},
   "cell_type": "markdown",
   "metadata": {},
   "source": [
    "Checking for null values"
   ]
  },
  {
   "cell_type": "code",
   "execution_count": 3,
   "metadata": {},
   "outputs": [
    {
     "data": {
      "text/plain": [
       "name             0\n",
       "year             0\n",
       "selling_price    0\n",
       "km_driven        0\n",
       "fuel             0\n",
       "seller_type      0\n",
       "transmission     0\n",
       "owner            0\n",
       "dtype: int64"
      ]
     },
     "execution_count": 3,
     "metadata": {},
     "output_type": "execute_result"
    }
   ],
   "source": [
    "data.isnull().sum()"
   ]
  },
  {
   "attachments": {},
   "cell_type": "markdown",
   "metadata": {},
   "source": [
    "Looking at data itself"
   ]
  },
  {
   "cell_type": "code",
   "execution_count": 4,
   "metadata": {},
   "outputs": [
    {
     "data": {
      "text/html": [
       "<div>\n",
       "<style scoped>\n",
       "    .dataframe tbody tr th:only-of-type {\n",
       "        vertical-align: middle;\n",
       "    }\n",
       "\n",
       "    .dataframe tbody tr th {\n",
       "        vertical-align: top;\n",
       "    }\n",
       "\n",
       "    .dataframe thead th {\n",
       "        text-align: right;\n",
       "    }\n",
       "</style>\n",
       "<table border=\"1\" class=\"dataframe\">\n",
       "  <thead>\n",
       "    <tr style=\"text-align: right;\">\n",
       "      <th></th>\n",
       "      <th>name</th>\n",
       "      <th>year</th>\n",
       "      <th>selling_price</th>\n",
       "      <th>km_driven</th>\n",
       "      <th>fuel</th>\n",
       "      <th>seller_type</th>\n",
       "      <th>transmission</th>\n",
       "      <th>owner</th>\n",
       "    </tr>\n",
       "  </thead>\n",
       "  <tbody>\n",
       "    <tr>\n",
       "      <th>0</th>\n",
       "      <td>Maruti 800 AC</td>\n",
       "      <td>2007</td>\n",
       "      <td>60000</td>\n",
       "      <td>70000</td>\n",
       "      <td>Petrol</td>\n",
       "      <td>Individual</td>\n",
       "      <td>Manual</td>\n",
       "      <td>First Owner</td>\n",
       "    </tr>\n",
       "    <tr>\n",
       "      <th>1</th>\n",
       "      <td>Maruti Wagon R LXI Minor</td>\n",
       "      <td>2007</td>\n",
       "      <td>135000</td>\n",
       "      <td>50000</td>\n",
       "      <td>Petrol</td>\n",
       "      <td>Individual</td>\n",
       "      <td>Manual</td>\n",
       "      <td>First Owner</td>\n",
       "    </tr>\n",
       "    <tr>\n",
       "      <th>2</th>\n",
       "      <td>Hyundai Verna 1.6 SX</td>\n",
       "      <td>2012</td>\n",
       "      <td>600000</td>\n",
       "      <td>100000</td>\n",
       "      <td>Diesel</td>\n",
       "      <td>Individual</td>\n",
       "      <td>Manual</td>\n",
       "      <td>First Owner</td>\n",
       "    </tr>\n",
       "    <tr>\n",
       "      <th>3</th>\n",
       "      <td>Datsun RediGO T Option</td>\n",
       "      <td>2017</td>\n",
       "      <td>250000</td>\n",
       "      <td>46000</td>\n",
       "      <td>Petrol</td>\n",
       "      <td>Individual</td>\n",
       "      <td>Manual</td>\n",
       "      <td>First Owner</td>\n",
       "    </tr>\n",
       "    <tr>\n",
       "      <th>4</th>\n",
       "      <td>Honda Amaze VX i-DTEC</td>\n",
       "      <td>2014</td>\n",
       "      <td>450000</td>\n",
       "      <td>141000</td>\n",
       "      <td>Diesel</td>\n",
       "      <td>Individual</td>\n",
       "      <td>Manual</td>\n",
       "      <td>Second Owner</td>\n",
       "    </tr>\n",
       "  </tbody>\n",
       "</table>\n",
       "</div>"
      ],
      "text/plain": [
       "                       name  year  selling_price  km_driven    fuel  \\\n",
       "0             Maruti 800 AC  2007          60000      70000  Petrol   \n",
       "1  Maruti Wagon R LXI Minor  2007         135000      50000  Petrol   \n",
       "2      Hyundai Verna 1.6 SX  2012         600000     100000  Diesel   \n",
       "3    Datsun RediGO T Option  2017         250000      46000  Petrol   \n",
       "4     Honda Amaze VX i-DTEC  2014         450000     141000  Diesel   \n",
       "\n",
       "  seller_type transmission         owner  \n",
       "0  Individual       Manual   First Owner  \n",
       "1  Individual       Manual   First Owner  \n",
       "2  Individual       Manual   First Owner  \n",
       "3  Individual       Manual   First Owner  \n",
       "4  Individual       Manual  Second Owner  "
      ]
     },
     "execution_count": 4,
     "metadata": {},
     "output_type": "execute_result"
    }
   ],
   "source": [
    "data.head()"
   ]
  },
  {
   "attachments": {},
   "cell_type": "markdown",
   "metadata": {},
   "source": [
    "Getting rid of names of cars because almost every car has a different name and this is unnecessary for our algorithms to learn"
   ]
  },
  {
   "cell_type": "code",
   "execution_count": 5,
   "metadata": {},
   "outputs": [],
   "source": [
    "data = data.drop('name', axis=1)"
   ]
  },
  {
   "attachments": {},
   "cell_type": "markdown",
   "metadata": {},
   "source": [
    "checking unique values for each text feature to decide what to do with them (drop or encode)"
   ]
  },
  {
   "cell_type": "code",
   "execution_count": 6,
   "metadata": {},
   "outputs": [
    {
     "name": "stdout",
     "output_type": "stream",
     "text": [
      "year: [1992 1995 1996 1997 1998 1999 2000 2001 2002 2003 2004 2005 2006 2007\n",
      " 2008 2009 2010 2011 2012 2013 2014 2015 2016 2017 2018 2019 2020]\n",
      "\n",
      "fuel: ['CNG' 'Diesel' 'Electric' 'LPG' 'Petrol']\n",
      "\n",
      "seller type: ['Dealer' 'Individual' 'Trustmark Dealer']\n",
      "\n",
      "transmission: ['Automatic' 'Manual']\n",
      "\n",
      "owner: ['First Owner' 'Fourth & Above Owner' 'Second Owner' 'Test Drive Car'\n",
      " 'Third Owner']\n"
     ]
    }
   ],
   "source": [
    "import numpy as np\n",
    "\n",
    "print(f\"year: {np.unique(data['year'])}\\n\\n\\\n",
    "fuel: {np.unique(data['fuel'])}\\n\\n\\\n",
    "seller type: {np.unique(data['seller_type'])}\\n\\n\\\n",
    "transmission: {np.unique(data['transmission'])}\\n\\n\\\n",
    "owner: {np.unique(data['owner'])}\")"
   ]
  },
  {
   "attachments": {},
   "cell_type": "markdown",
   "metadata": {},
   "source": [
    "All features (except year) has maximum 5 different values, so we can easilly encode them and bet useful info for our machinle learning algorithm. Feature year has 27 unique values, that's alot, however this feature is very useful for predicting car price so we do not drop it"
   ]
  },
  {
   "attachments": {},
   "cell_type": "markdown",
   "metadata": {},
   "source": [
    "Splitting our data to train and test sets, putting test set aside"
   ]
  },
  {
   "cell_type": "code",
   "execution_count": 7,
   "metadata": {},
   "outputs": [],
   "source": [
    "from sklearn.model_selection import train_test_split\n",
    "\n",
    "train, test = train_test_split(data, test_size=0.2)"
   ]
  },
  {
   "cell_type": "code",
   "execution_count": 8,
   "metadata": {},
   "outputs": [],
   "source": [
    "def mean_price(features, values):\n",
    "\n",
    "    for value in values:\n",
    "        prices = []\n",
    "        for price, feature in zip(data['selling_price'], features):\n",
    "            if feature == value:\n",
    "                prices.append(price)\n",
    "\n",
    "        prices_in_k = np.array(prices) / 1000.\n",
    "        mean_price = np.round(np.mean(prices_in_k), 1)\n",
    "        min_price = np.round(np.min(prices_in_k), 1)\n",
    "        max_price = mean = np.round(np.max(prices_in_k), 1)\n",
    "\n",
    "        b = '\\033[1m'\n",
    "        e = '\\033[0m'\n",
    "        blue = '\\033[94m'\n",
    "        green = '\\033[92m'\n",
    "        yellow = '\\033[93m'\n",
    "\n",
    "        print(f'{b + value + e} mean: {b}{green}${mean_price}k{e}, min: {b}{blue}${min_price}k{e}, max: {b}{yellow}${max_price}{e}k')"
   ]
  },
  {
   "cell_type": "code",
   "execution_count": 9,
   "metadata": {},
   "outputs": [
    {
     "name": "stdout",
     "output_type": "stream",
     "text": [
      "Fuel Type:\n",
      "\u001b[1mCNG\u001b[0m mean: \u001b[1m\u001b[92m$277.2k\u001b[0m, min: \u001b[1m\u001b[94m$45.0k\u001b[0m, max: \u001b[1m\u001b[93m$595.0\u001b[0mk\n",
      "\u001b[1mPetrol\u001b[0m mean: \u001b[1m\u001b[92m$344.8k\u001b[0m, min: \u001b[1m\u001b[94m$20.0k\u001b[0m, max: \u001b[1m\u001b[93m$8900.0\u001b[0mk\n",
      "\u001b[1mDiesel\u001b[0m mean: \u001b[1m\u001b[92m$669.1k\u001b[0m, min: \u001b[1m\u001b[94m$45.0k\u001b[0m, max: \u001b[1m\u001b[93m$8150.0\u001b[0mk\n",
      "\u001b[1mLPG\u001b[0m mean: \u001b[1m\u001b[92m$167.8k\u001b[0m, min: \u001b[1m\u001b[94m$50.0k\u001b[0m, max: \u001b[1m\u001b[93m$290.0\u001b[0mk\n",
      "\u001b[1mElectric\u001b[0m mean: \u001b[1m\u001b[92m$310.0k\u001b[0m, min: \u001b[1m\u001b[94m$310.0k\u001b[0m, max: \u001b[1m\u001b[93m$310.0\u001b[0mk\n",
      "\n",
      "Seller Type:\n",
      "\u001b[1mTrustmark Dealer\u001b[0m mean: \u001b[1m\u001b[92m$915.0k\u001b[0m, min: \u001b[1m\u001b[94m$295.0k\u001b[0m, max: \u001b[1m\u001b[93m$2600.0\u001b[0mk\n",
      "\u001b[1mDealer\u001b[0m mean: \u001b[1m\u001b[92m$721.8k\u001b[0m, min: \u001b[1m\u001b[94m$22.0k\u001b[0m, max: \u001b[1m\u001b[93m$8900.0\u001b[0mk\n",
      "\u001b[1mIndividual\u001b[0m mean: \u001b[1m\u001b[92m$424.5k\u001b[0m, min: \u001b[1m\u001b[94m$20.0k\u001b[0m, max: \u001b[1m\u001b[93m$4800.0\u001b[0mk\n",
      "\n",
      "Transmission Type:\n",
      "\u001b[1mManual\u001b[0m mean: \u001b[1m\u001b[92m$400.1k\u001b[0m, min: \u001b[1m\u001b[94m$20.0k\u001b[0m, max: \u001b[1m\u001b[93m$1900.0\u001b[0mk\n",
      "\u001b[1mAutomatic\u001b[0m mean: \u001b[1m\u001b[92m$1408.2k\u001b[0m, min: \u001b[1m\u001b[94m$79.0k\u001b[0m, max: \u001b[1m\u001b[93m$8900.0\u001b[0mk\n",
      "\n",
      "Owner Type:\n",
      "\u001b[1mTest Drive Car\u001b[0m mean: \u001b[1m\u001b[92m$954.3k\u001b[0m, min: \u001b[1m\u001b[94m$541.0k\u001b[0m, max: \u001b[1m\u001b[93m$1350.0\u001b[0mk\n",
      "\u001b[1mFirst Owner\u001b[0m mean: \u001b[1m\u001b[92m$598.6k\u001b[0m, min: \u001b[1m\u001b[94m$40.0k\u001b[0m, max: \u001b[1m\u001b[93m$8900.0\u001b[0mk\n",
      "\u001b[1mSecond Owner\u001b[0m mean: \u001b[1m\u001b[92m$343.9k\u001b[0m, min: \u001b[1m\u001b[94m$20.0k\u001b[0m, max: \u001b[1m\u001b[93m$4400.0\u001b[0mk\n",
      "\u001b[1mThird Owner\u001b[0m mean: \u001b[1m\u001b[92m$269.5k\u001b[0m, min: \u001b[1m\u001b[94m$22.0k\u001b[0m, max: \u001b[1m\u001b[93m$2300.0\u001b[0mk\n",
      "\u001b[1mFourth & Above Owner\u001b[0m mean: \u001b[1m\u001b[92m$173.9k\u001b[0m, min: \u001b[1m\u001b[94m$40.0k\u001b[0m, max: \u001b[1m\u001b[93m$700.0\u001b[0mk\n"
     ]
    }
   ],
   "source": [
    "print('Fuel Type:')\n",
    "mean_price(data['fuel'], ['CNG', 'Petrol', 'Diesel', 'LPG', 'Electric'])\n",
    "print('\\nSeller Type:')\n",
    "mean_price(data['seller_type'], ['Trustmark Dealer', 'Dealer', 'Individual'])\n",
    "print('\\nTransmission Type:')\n",
    "mean_price(data['transmission'], ['Manual', 'Automatic'])\n",
    "print('\\nOwner Type:')\n",
    "mean_price(data['owner'], ['Test Drive Car', 'First Owner', 'Second Owner','Third Owner', 'Fourth & Above Owner'])\n"
   ]
  },
  {
   "cell_type": "code",
   "execution_count": 10,
   "metadata": {},
   "outputs": [],
   "source": [
    "\n",
    "from sklearn.preprocessing import OrdinalEncoder, StandardScaler\n",
    "\n",
    "encoder = OrdinalEncoder(categories=[['LPG', 'CNG', 'Petrol', 'Diesel', 'Electric'], ['Individual', 'Dealer', 'Trustmark Dealer' ], ['Manual', 'Automatic'], ['Test Drive Car', 'First Owner', 'Second Owner', 'Third Owner', 'Fourth & Above Owner']])\n",
    "scaler = StandardScaler()"
   ]
  },
  {
   "cell_type": "code",
   "execution_count": 11,
   "metadata": {},
   "outputs": [],
   "source": [
    "data[['fuel', 'seller_type', 'transmission', 'owner']] = \\\n",
    "encoder.fit_transform(data[['fuel', 'seller_type', 'transmission', 'owner']])"
   ]
  },
  {
   "cell_type": "code",
   "execution_count": 12,
   "metadata": {},
   "outputs": [],
   "source": [
    "import matplotlib.pyplot as plt\n",
    "\n",
    "def plot_data(x_str, y_str):\n",
    "    y = data[y_str]\n",
    "    \n",
    "    x0 = data[x_str[0]]\n",
    "    \n",
    "    x1 = data[x_str[1]]\n",
    "\n",
    "    x2 = data[x_str[2]]\n",
    "\n",
    "    x3 = data[x_str[3]]\n",
    "    \n",
    "    figure, axis = plt.subplots(2, 2, figsize=(10, 7))\n",
    "\n",
    "    axis[0, 0].scatter(x0, y, 25, alpha=0.2, \n",
    "    c=(np.clip(data['selling_price']/\n",
    "    np.mean(data['selling_price']), 0., 1.)), \n",
    "    cmap=\"jet\")\n",
    "    axis[0, 0].set_xlabel(x_str[0])\n",
    "    axis[0, 0].set_ylabel(y_str)\n",
    "\n",
    "    axis[1, 0].scatter(x1, y, 25, alpha=0.2, \n",
    "    c=(np.clip(data['selling_price']/\n",
    "    np.mean(data['selling_price']), 0., 1.)), \n",
    "    cmap=\"jet\")\n",
    "    axis[1, 0].set_xlabel(x_str[1])\n",
    "    axis[1, 0].set_ylabel(y_str)\n",
    "\n",
    "    axis[0, 1].scatter(x2, y, 25, alpha=0.2, \n",
    "    c=(np.clip(data['selling_price']/\n",
    "    np.mean(data['selling_price']), 0., 1.)), \n",
    "    cmap=\"jet\")\n",
    "    axis[0, 1].set_xlabel(x_str[2])\n",
    "    axis[0, 1].set_ylabel(y_str)\n",
    "\n",
    "    axis[1, 1].scatter(x3, y, 25, alpha=0.2, \n",
    "    c=(np.clip(data['selling_price']/\n",
    "    np.mean(data['selling_price']), 0., 1.)), \n",
    "    cmap=\"jet\")\n",
    "    axis[1, 1].set_xlabel(x_str[3])\n",
    "    axis[1, 1].set_ylabel(y_str)\n",
    "\n",
    "\n",
    "    plt.show()"
   ]
  },
  {
   "cell_type": "code",
   "execution_count": 13,
   "metadata": {},
   "outputs": [
    {
     "data": {
      "text/html": [
       "<div>\n",
       "<style scoped>\n",
       "    .dataframe tbody tr th:only-of-type {\n",
       "        vertical-align: middle;\n",
       "    }\n",
       "\n",
       "    .dataframe tbody tr th {\n",
       "        vertical-align: top;\n",
       "    }\n",
       "\n",
       "    .dataframe thead th {\n",
       "        text-align: right;\n",
       "    }\n",
       "</style>\n",
       "<table border=\"1\" class=\"dataframe\">\n",
       "  <thead>\n",
       "    <tr style=\"text-align: right;\">\n",
       "      <th></th>\n",
       "      <th>year</th>\n",
       "      <th>selling_price</th>\n",
       "      <th>km_driven</th>\n",
       "      <th>fuel</th>\n",
       "      <th>seller_type</th>\n",
       "      <th>transmission</th>\n",
       "      <th>owner</th>\n",
       "    </tr>\n",
       "  </thead>\n",
       "  <tbody>\n",
       "    <tr>\n",
       "      <th>0</th>\n",
       "      <td>2007</td>\n",
       "      <td>60000</td>\n",
       "      <td>70000</td>\n",
       "      <td>2.0</td>\n",
       "      <td>0.0</td>\n",
       "      <td>0.0</td>\n",
       "      <td>1.0</td>\n",
       "    </tr>\n",
       "    <tr>\n",
       "      <th>1</th>\n",
       "      <td>2007</td>\n",
       "      <td>135000</td>\n",
       "      <td>50000</td>\n",
       "      <td>2.0</td>\n",
       "      <td>0.0</td>\n",
       "      <td>0.0</td>\n",
       "      <td>1.0</td>\n",
       "    </tr>\n",
       "    <tr>\n",
       "      <th>2</th>\n",
       "      <td>2012</td>\n",
       "      <td>600000</td>\n",
       "      <td>100000</td>\n",
       "      <td>3.0</td>\n",
       "      <td>0.0</td>\n",
       "      <td>0.0</td>\n",
       "      <td>1.0</td>\n",
       "    </tr>\n",
       "    <tr>\n",
       "      <th>3</th>\n",
       "      <td>2017</td>\n",
       "      <td>250000</td>\n",
       "      <td>46000</td>\n",
       "      <td>2.0</td>\n",
       "      <td>0.0</td>\n",
       "      <td>0.0</td>\n",
       "      <td>1.0</td>\n",
       "    </tr>\n",
       "    <tr>\n",
       "      <th>4</th>\n",
       "      <td>2014</td>\n",
       "      <td>450000</td>\n",
       "      <td>141000</td>\n",
       "      <td>3.0</td>\n",
       "      <td>0.0</td>\n",
       "      <td>0.0</td>\n",
       "      <td>2.0</td>\n",
       "    </tr>\n",
       "    <tr>\n",
       "      <th>...</th>\n",
       "      <td>...</td>\n",
       "      <td>...</td>\n",
       "      <td>...</td>\n",
       "      <td>...</td>\n",
       "      <td>...</td>\n",
       "      <td>...</td>\n",
       "      <td>...</td>\n",
       "    </tr>\n",
       "    <tr>\n",
       "      <th>4335</th>\n",
       "      <td>2014</td>\n",
       "      <td>409999</td>\n",
       "      <td>80000</td>\n",
       "      <td>3.0</td>\n",
       "      <td>0.0</td>\n",
       "      <td>0.0</td>\n",
       "      <td>2.0</td>\n",
       "    </tr>\n",
       "    <tr>\n",
       "      <th>4336</th>\n",
       "      <td>2014</td>\n",
       "      <td>409999</td>\n",
       "      <td>80000</td>\n",
       "      <td>3.0</td>\n",
       "      <td>0.0</td>\n",
       "      <td>0.0</td>\n",
       "      <td>2.0</td>\n",
       "    </tr>\n",
       "    <tr>\n",
       "      <th>4337</th>\n",
       "      <td>2009</td>\n",
       "      <td>110000</td>\n",
       "      <td>83000</td>\n",
       "      <td>2.0</td>\n",
       "      <td>0.0</td>\n",
       "      <td>0.0</td>\n",
       "      <td>2.0</td>\n",
       "    </tr>\n",
       "    <tr>\n",
       "      <th>4338</th>\n",
       "      <td>2016</td>\n",
       "      <td>865000</td>\n",
       "      <td>90000</td>\n",
       "      <td>3.0</td>\n",
       "      <td>0.0</td>\n",
       "      <td>0.0</td>\n",
       "      <td>1.0</td>\n",
       "    </tr>\n",
       "    <tr>\n",
       "      <th>4339</th>\n",
       "      <td>2016</td>\n",
       "      <td>225000</td>\n",
       "      <td>40000</td>\n",
       "      <td>2.0</td>\n",
       "      <td>0.0</td>\n",
       "      <td>0.0</td>\n",
       "      <td>1.0</td>\n",
       "    </tr>\n",
       "  </tbody>\n",
       "</table>\n",
       "<p>4340 rows × 7 columns</p>\n",
       "</div>"
      ],
      "text/plain": [
       "      year  selling_price  km_driven  fuel  seller_type  transmission  owner\n",
       "0     2007          60000      70000   2.0          0.0           0.0    1.0\n",
       "1     2007         135000      50000   2.0          0.0           0.0    1.0\n",
       "2     2012         600000     100000   3.0          0.0           0.0    1.0\n",
       "3     2017         250000      46000   2.0          0.0           0.0    1.0\n",
       "4     2014         450000     141000   3.0          0.0           0.0    2.0\n",
       "...    ...            ...        ...   ...          ...           ...    ...\n",
       "4335  2014         409999      80000   3.0          0.0           0.0    2.0\n",
       "4336  2014         409999      80000   3.0          0.0           0.0    2.0\n",
       "4337  2009         110000      83000   2.0          0.0           0.0    2.0\n",
       "4338  2016         865000      90000   3.0          0.0           0.0    1.0\n",
       "4339  2016         225000      40000   2.0          0.0           0.0    1.0\n",
       "\n",
       "[4340 rows x 7 columns]"
      ]
     },
     "execution_count": 13,
     "metadata": {},
     "output_type": "execute_result"
    }
   ],
   "source": [
    "data"
   ]
  },
  {
   "cell_type": "code",
   "execution_count": 14,
   "metadata": {},
   "outputs": [
    {
     "data": {
      "image/png": "[encoded data removed]",
      "text/plain": [
       "<Figure size 1000x700 with 4 Axes>"
      ]
     },
     "metadata": {},
     "output_type": "display_data"
    }
   ],
   "source": [
    "plot_data(['km_driven', 'fuel', 'seller_type', 'owner'], 'year')"
   ]
  },
  {
   "cell_type": "code",
   "execution_count": 15,
   "metadata": {},
   "outputs": [
    {
     "data": {
      "text/html": [
       "<div>\n",
       "<style scoped>\n",
       "    .dataframe tbody tr th:only-of-type {\n",
       "        vertical-align: middle;\n",
       "    }\n",
       "\n",
       "    .dataframe tbody tr th {\n",
       "        vertical-align: top;\n",
       "    }\n",
       "\n",
       "    .dataframe thead th {\n",
       "        text-align: right;\n",
       "    }\n",
       "</style>\n",
       "<table border=\"1\" class=\"dataframe\">\n",
       "  <thead>\n",
       "    <tr style=\"text-align: right;\">\n",
       "      <th></th>\n",
       "      <th>selling_price</th>\n",
       "    </tr>\n",
       "  </thead>\n",
       "  <tbody>\n",
       "    <tr>\n",
       "      <th>selling_price</th>\n",
       "      <td>1.000000</td>\n",
       "    </tr>\n",
       "    <tr>\n",
       "      <th>transmission</th>\n",
       "      <td>0.530205</td>\n",
       "    </tr>\n",
       "    <tr>\n",
       "      <th>year</th>\n",
       "      <td>0.413922</td>\n",
       "    </tr>\n",
       "    <tr>\n",
       "      <th>fuel</th>\n",
       "      <td>0.275786</td>\n",
       "    </tr>\n",
       "    <tr>\n",
       "      <th>seller_type</th>\n",
       "      <td>0.240666</td>\n",
       "    </tr>\n",
       "    <tr>\n",
       "      <th>km_driven</th>\n",
       "      <td>-0.192289</td>\n",
       "    </tr>\n",
       "    <tr>\n",
       "      <th>owner</th>\n",
       "      <td>-0.228091</td>\n",
       "    </tr>\n",
       "  </tbody>\n",
       "</table>\n",
       "</div>"
      ],
      "text/plain": [
       "               selling_price\n",
       "selling_price       1.000000\n",
       "transmission        0.530205\n",
       "year                0.413922\n",
       "fuel                0.275786\n",
       "seller_type         0.240666\n",
       "km_driven          -0.192289\n",
       "owner              -0.228091"
      ]
     },
     "execution_count": 15,
     "metadata": {},
     "output_type": "execute_result"
    }
   ],
   "source": [
    "corr_matrix = data.corr(numeric_only=True)\n",
    "pd.DataFrame(corr_matrix[\"selling_price\"].sort_values(ascending=False))"
   ]
  },
  {
   "cell_type": "code",
   "execution_count": 16,
   "metadata": {},
   "outputs": [
    {
     "data": {
      "text/plain": [
       "1079     400000\n",
       "2707     135000\n",
       "2541      85000\n",
       "2175    2050000\n",
       "2623     400000\n",
       "         ...   \n",
       "2317     790000\n",
       "2983     550000\n",
       "3982     380000\n",
       "26       585000\n",
       "1422     675000\n",
       "Name: selling_price, Length: 3472, dtype: int64"
      ]
     },
     "execution_count": 16,
     "metadata": {},
     "output_type": "execute_result"
    }
   ],
   "source": [
    "train['selling_price']"
   ]
  },
  {
   "cell_type": "code",
   "execution_count": 17,
   "metadata": {},
   "outputs": [],
   "source": [
    "train[['fuel', 'seller_type', 'transmission', 'owner']] = encoder.fit_transform(train[['fuel', 'seller_type', 'transmission', 'owner']])\n",
    "X = scaler.fit_transform(train.drop('selling_price', axis=1))\n",
    "y = np.array(train['selling_price']).reshape(-1, 1)"
   ]
  },
  {
   "cell_type": "code",
   "execution_count": 18,
   "metadata": {},
   "outputs": [],
   "source": [
    "X_train, X_valid, y_train, y_valid = train_test_split(X, y, test_size=0.2, random_state=69)"
   ]
  },
  {
   "cell_type": "code",
   "execution_count": 120,
   "metadata": {},
   "outputs": [
    {
     "data": {
      "text/html": [
       "<style>#sk-container-id-33 {color: black;background-color: white;}#sk-container-id-33 pre{padding: 0;}#sk-container-id-33 div.sk-toggleable {background-color: white;}#sk-container-id-33 label.sk-toggleable__label {cursor: pointer;display: block;width: 100%;margin-bottom: 0;padding: 0.3em;box-sizing: border-box;text-align: center;}#sk-container-id-33 label.sk-toggleable__label-arrow:before {content: \"▸\";float: left;margin-right: 0.25em;color: #696969;}#sk-container-id-33 label.sk-toggleable__label-arrow:hover:before {color: black;}#sk-container-id-33 div.sk-estimator:hover label.sk-toggleable__label-arrow:before {color: black;}#sk-container-id-33 div.sk-toggleable__content {max-height: 0;max-width: 0;overflow: hidden;text-align: left;background-color: #f0f8ff;}#sk-container-id-33 div.sk-toggleable__content pre {margin: 0.2em;color: black;border-radius: 0.25em;background-color: #f0f8ff;}#sk-container-id-33 input.sk-toggleable__control:checked~div.sk-toggleable__content {max-height: 200px;max-width: 100%;overflow: auto;}#sk-container-id-33 input.sk-toggleable__control:checked~label.sk-toggleable__label-arrow:before {content: \"▾\";}#sk-container-id-33 div.sk-estimator input.sk-toggleable__control:checked~label.sk-toggleable__label {background-color: #d4ebff;}#sk-container-id-33 div.sk-label input.sk-toggleable__control:checked~label.sk-toggleable__label {background-color: #d4ebff;}#sk-container-id-33 input.sk-hidden--visually {border: 0;clip: rect(1px 1px 1px 1px);clip: rect(1px, 1px, 1px, 1px);height: 1px;margin: -1px;overflow: hidden;padding: 0;position: absolute;width: 1px;}#sk-container-id-33 div.sk-estimator {font-family: monospace;background-color: #f0f8ff;border: 1px dotted black;border-radius: 0.25em;box-sizing: border-box;margin-bottom: 0.5em;}#sk-container-id-33 div.sk-estimator:hover {background-color: #d4ebff;}#sk-container-id-33 div.sk-parallel-item::after {content: \"\";width: 100%;border-bottom: 1px solid gray;flex-grow: 1;}#sk-container-id-33 div.sk-label:hover label.sk-toggleable__label {background-color: #d4ebff;}#sk-container-id-33 div.sk-serial::before {content: \"\";position: absolute;border-left: 1px solid gray;box-sizing: border-box;top: 0;bottom: 0;left: 50%;z-index: 0;}#sk-container-id-33 div.sk-serial {display: flex;flex-direction: column;align-items: center;background-color: white;padding-right: 0.2em;padding-left: 0.2em;position: relative;}#sk-container-id-33 div.sk-item {position: relative;z-index: 1;}#sk-container-id-33 div.sk-parallel {display: flex;align-items: stretch;justify-content: center;background-color: white;position: relative;}#sk-container-id-33 div.sk-item::before, #sk-container-id-33 div.sk-parallel-item::before {content: \"\";position: absolute;border-left: 1px solid gray;box-sizing: border-box;top: 0;bottom: 0;left: 50%;z-index: -1;}#sk-container-id-33 div.sk-parallel-item {display: flex;flex-direction: column;z-index: 1;position: relative;background-color: white;}#sk-container-id-33 div.sk-parallel-item:first-child::after {align-self: flex-end;width: 50%;}#sk-container-id-33 div.sk-parallel-item:last-child::after {align-self: flex-start;width: 50%;}#sk-container-id-33 div.sk-parallel-item:only-child::after {width: 0;}#sk-container-id-33 div.sk-dashed-wrapped {border: 1px dashed gray;margin: 0 0.4em 0.5em 0.4em;box-sizing: border-box;padding-bottom: 0.4em;background-color: white;}#sk-container-id-33 div.sk-label label {font-family: monospace;font-weight: bold;display: inline-block;line-height: 1.2em;}#sk-container-id-33 div.sk-label-container {text-align: center;}#sk-container-id-33 div.sk-container {/* jupyter's `normalize.less` sets `[hidden] { display: none; }` but bootstrap.min.css set `[hidden] { display: none !important; }` so we also need the `!important` here to be able to override the default hidden behavior on the sphinx rendered scikit-learn.org. See: https://github.com/scikit-learn/scikit-learn/issues/21755 */display: inline-block !important;position: relative;}#sk-container-id-33 div.sk-text-repr-fallback {display: none;}</style><div id=\"sk-container-id-33\" class=\"sk-top-container\"><div class=\"sk-text-repr-fallback\"><pre>GridSearchCV(cv=10,\n",
       "             estimator=RandomForestRegressor(max_depth=9, max_features=2,\n",
       "                                             n_estimators=77),\n",
       "             param_grid={&#x27;n_estimators&#x27;: [71, 72, 73, 74, 75, 76, 77, 78]},\n",
       "             scoring=&#x27;neg_mean_squared_error&#x27;)</pre><b>In a Jupyter environment, please rerun this cell to show the HTML representation or trust the notebook. <br />On GitHub, the HTML representation is unable to render, please try loading this page with nbviewer.org.</b></div><div class=\"sk-container\" hidden><div class=\"sk-item sk-dashed-wrapped\"><div class=\"sk-label-container\"><div class=\"sk-label sk-toggleable\"><input class=\"sk-toggleable__control sk-hidden--visually\" id=\"sk-estimator-id-65\" type=\"checkbox\" ><label for=\"sk-estimator-id-65\" class=\"sk-toggleable__label sk-toggleable__label-arrow\">GridSearchCV</label><div class=\"sk-toggleable__content\"><pre>GridSearchCV(cv=10,\n",
       "             estimator=RandomForestRegressor(max_depth=9, max_features=2,\n",
       "                                             n_estimators=77),\n",
       "             param_grid={&#x27;n_estimators&#x27;: [71, 72, 73, 74, 75, 76, 77, 78]},\n",
       "             scoring=&#x27;neg_mean_squared_error&#x27;)</pre></div></div></div><div class=\"sk-parallel\"><div class=\"sk-parallel-item\"><div class=\"sk-item\"><div class=\"sk-label-container\"><div class=\"sk-label sk-toggleable\"><input class=\"sk-toggleable__control sk-hidden--visually\" id=\"sk-estimator-id-66\" type=\"checkbox\" ><label for=\"sk-estimator-id-66\" class=\"sk-toggleable__label sk-toggleable__label-arrow\">estimator: RandomForestRegressor</label><div class=\"sk-toggleable__content\"><pre>RandomForestRegressor(max_depth=9, max_features=2, n_estimators=77)</pre></div></div></div><div class=\"sk-serial\"><div class=\"sk-item\"><div class=\"sk-estimator sk-toggleable\"><input class=\"sk-toggleable__control sk-hidden--visually\" id=\"sk-estimator-id-67\" type=\"checkbox\" ><label for=\"sk-estimator-id-67\" class=\"sk-toggleable__label sk-toggleable__label-arrow\">RandomForestRegressor</label><div class=\"sk-toggleable__content\"><pre>RandomForestRegressor(max_depth=9, max_features=2, n_estimators=77)</pre></div></div></div></div></div></div></div></div></div></div>"
      ],
      "text/plain": [
       "GridSearchCV(cv=10,\n",
       "             estimator=RandomForestRegressor(max_depth=9, max_features=2,\n",
       "                                             n_estimators=77),\n",
       "             param_grid={'n_estimators': [71, 72, 73, 74, 75, 76, 77, 78]},\n",
       "             scoring='neg_mean_squared_error')"
      ]
     },
     "execution_count": 120,
     "metadata": {},
     "output_type": "execute_result"
    }
   ],
   "source": [
    "from sklearn.model_selection import RandomizedSearchCV, GridSearchCV\n",
    "from sklearn.ensemble import RandomForestRegressor\n",
    "\n",
    "estimator = RandomForestRegressor(n_estimators=77,max_depth=9, max_features=2)\n",
    "\n",
    "param_grid = {'n_estimators': [77], 'max_depth': [9], 'max_features':[2]}\n",
    "\n",
    "iters = 50\n",
    "cv = 10\n",
    "\n",
    "model = GridSearchCV(estimator, param_grid, cv=cv, scoring='neg_mean_squared_error')\n",
    "model.fit(X_train, y_train.reshape(len(y_train),))"
   ]
  },
  {
   "cell_type": "code",
   "execution_count": 116,
   "metadata": {},
   "outputs": [
    {
     "data": {
      "text/html": [
       "<style>#sk-container-id-32 {color: black;background-color: white;}#sk-container-id-32 pre{padding: 0;}#sk-container-id-32 div.sk-toggleable {background-color: white;}#sk-container-id-32 label.sk-toggleable__label {cursor: pointer;display: block;width: 100%;margin-bottom: 0;padding: 0.3em;box-sizing: border-box;text-align: center;}#sk-container-id-32 label.sk-toggleable__label-arrow:before {content: \"▸\";float: left;margin-right: 0.25em;color: #696969;}#sk-container-id-32 label.sk-toggleable__label-arrow:hover:before {color: black;}#sk-container-id-32 div.sk-estimator:hover label.sk-toggleable__label-arrow:before {color: black;}#sk-container-id-32 div.sk-toggleable__content {max-height: 0;max-width: 0;overflow: hidden;text-align: left;background-color: #f0f8ff;}#sk-container-id-32 div.sk-toggleable__content pre {margin: 0.2em;color: black;border-radius: 0.25em;background-color: #f0f8ff;}#sk-container-id-32 input.sk-toggleable__control:checked~div.sk-toggleable__content {max-height: 200px;max-width: 100%;overflow: auto;}#sk-container-id-32 input.sk-toggleable__control:checked~label.sk-toggleable__label-arrow:before {content: \"▾\";}#sk-container-id-32 div.sk-estimator input.sk-toggleable__control:checked~label.sk-toggleable__label {background-color: #d4ebff;}#sk-container-id-32 div.sk-label input.sk-toggleable__control:checked~label.sk-toggleable__label {background-color: #d4ebff;}#sk-container-id-32 input.sk-hidden--visually {border: 0;clip: rect(1px 1px 1px 1px);clip: rect(1px, 1px, 1px, 1px);height: 1px;margin: -1px;overflow: hidden;padding: 0;position: absolute;width: 1px;}#sk-container-id-32 div.sk-estimator {font-family: monospace;background-color: #f0f8ff;border: 1px dotted black;border-radius: 0.25em;box-sizing: border-box;margin-bottom: 0.5em;}#sk-container-id-32 div.sk-estimator:hover {background-color: #d4ebff;}#sk-container-id-32 div.sk-parallel-item::after {content: \"\";width: 100%;border-bottom: 1px solid gray;flex-grow: 1;}#sk-container-id-32 div.sk-label:hover label.sk-toggleable__label {background-color: #d4ebff;}#sk-container-id-32 div.sk-serial::before {content: \"\";position: absolute;border-left: 1px solid gray;box-sizing: border-box;top: 0;bottom: 0;left: 50%;z-index: 0;}#sk-container-id-32 div.sk-serial {display: flex;flex-direction: column;align-items: center;background-color: white;padding-right: 0.2em;padding-left: 0.2em;position: relative;}#sk-container-id-32 div.sk-item {position: relative;z-index: 1;}#sk-container-id-32 div.sk-parallel {display: flex;align-items: stretch;justify-content: center;background-color: white;position: relative;}#sk-container-id-32 div.sk-item::before, #sk-container-id-32 div.sk-parallel-item::before {content: \"\";position: absolute;border-left: 1px solid gray;box-sizing: border-box;top: 0;bottom: 0;left: 50%;z-index: -1;}#sk-container-id-32 div.sk-parallel-item {display: flex;flex-direction: column;z-index: 1;position: relative;background-color: white;}#sk-container-id-32 div.sk-parallel-item:first-child::after {align-self: flex-end;width: 50%;}#sk-container-id-32 div.sk-parallel-item:last-child::after {align-self: flex-start;width: 50%;}#sk-container-id-32 div.sk-parallel-item:only-child::after {width: 0;}#sk-container-id-32 div.sk-dashed-wrapped {border: 1px dashed gray;margin: 0 0.4em 0.5em 0.4em;box-sizing: border-box;padding-bottom: 0.4em;background-color: white;}#sk-container-id-32 div.sk-label label {font-family: monospace;font-weight: bold;display: inline-block;line-height: 1.2em;}#sk-container-id-32 div.sk-label-container {text-align: center;}#sk-container-id-32 div.sk-container {/* jupyter's `normalize.less` sets `[hidden] { display: none; }` but bootstrap.min.css set `[hidden] { display: none !important; }` so we also need the `!important` here to be able to override the default hidden behavior on the sphinx rendered scikit-learn.org. See: https://github.com/scikit-learn/scikit-learn/issues/21755 */display: inline-block !important;position: relative;}#sk-container-id-32 div.sk-text-repr-fallback {display: none;}</style><div id=\"sk-container-id-32\" class=\"sk-top-container\"><div class=\"sk-text-repr-fallback\"><pre>RandomForestRegressor(max_depth=9, max_features=2, n_estimators=77)</pre><b>In a Jupyter environment, please rerun this cell to show the HTML representation or trust the notebook. <br />On GitHub, the HTML representation is unable to render, please try loading this page with nbviewer.org.</b></div><div class=\"sk-container\" hidden><div class=\"sk-item\"><div class=\"sk-estimator sk-toggleable\"><input class=\"sk-toggleable__control sk-hidden--visually\" id=\"sk-estimator-id-64\" type=\"checkbox\" checked><label for=\"sk-estimator-id-64\" class=\"sk-toggleable__label sk-toggleable__label-arrow\">RandomForestRegressor</label><div class=\"sk-toggleable__content\"><pre>RandomForestRegressor(max_depth=9, max_features=2, n_estimators=77)</pre></div></div></div></div></div>"
      ],
      "text/plain": [
       "RandomForestRegressor(max_depth=9, max_features=2, n_estimators=77)"
      ]
     },
     "execution_count": 116,
     "metadata": {},
     "output_type": "execute_result"
    }
   ],
   "source": [
    "model.best_estimator_"
   ]
  },
  {
   "cell_type": "code",
   "execution_count": 117,
   "metadata": {},
   "outputs": [
    {
     "data": {
      "text/html": [
       "<div>\n",
       "<style scoped>\n",
       "    .dataframe tbody tr th:only-of-type {\n",
       "        vertical-align: middle;\n",
       "    }\n",
       "\n",
       "    .dataframe tbody tr th {\n",
       "        vertical-align: top;\n",
       "    }\n",
       "\n",
       "    .dataframe thead th {\n",
       "        text-align: right;\n",
       "    }\n",
       "</style>\n",
       "<table border=\"1\" class=\"dataframe\">\n",
       "  <thead>\n",
       "    <tr style=\"text-align: right;\">\n",
       "      <th></th>\n",
       "      <th>mean_fit_time</th>\n",
       "      <th>std_fit_time</th>\n",
       "      <th>mean_score_time</th>\n",
       "      <th>std_score_time</th>\n",
       "      <th>param_n_estimators</th>\n",
       "      <th>params</th>\n",
       "      <th>split0_test_score</th>\n",
       "      <th>split1_test_score</th>\n",
       "      <th>split2_test_score</th>\n",
       "      <th>split3_test_score</th>\n",
       "      <th>split4_test_score</th>\n",
       "      <th>split5_test_score</th>\n",
       "      <th>split6_test_score</th>\n",
       "      <th>split7_test_score</th>\n",
       "      <th>split8_test_score</th>\n",
       "      <th>split9_test_score</th>\n",
       "      <th>mean_test_score</th>\n",
       "      <th>std_test_score</th>\n",
       "      <th>rank_test_score</th>\n",
       "    </tr>\n",
       "  </thead>\n",
       "  <tbody>\n",
       "    <tr>\n",
       "      <th>0</th>\n",
       "      <td>0.195155</td>\n",
       "      <td>0.048095</td>\n",
       "      <td>0.010728</td>\n",
       "      <td>0.006661</td>\n",
       "      <td>71</td>\n",
       "      <td>{'n_estimators': 71}</td>\n",
       "      <td>-3.458104e+11</td>\n",
       "      <td>-6.302272e+10</td>\n",
       "      <td>-5.035020e+10</td>\n",
       "      <td>-1.119595e+11</td>\n",
       "      <td>-1.157403e+11</td>\n",
       "      <td>-4.742932e+10</td>\n",
       "      <td>-5.654700e+10</td>\n",
       "      <td>-7.711517e+10</td>\n",
       "      <td>-1.161330e+11</td>\n",
       "      <td>-6.928239e+10</td>\n",
       "      <td>-1.053390e+11</td>\n",
       "      <td>8.410725e+10</td>\n",
       "      <td>2</td>\n",
       "    </tr>\n",
       "    <tr>\n",
       "      <th>1</th>\n",
       "      <td>0.186649</td>\n",
       "      <td>0.011719</td>\n",
       "      <td>0.009465</td>\n",
       "      <td>0.000854</td>\n",
       "      <td>72</td>\n",
       "      <td>{'n_estimators': 72}</td>\n",
       "      <td>-3.457481e+11</td>\n",
       "      <td>-6.416356e+10</td>\n",
       "      <td>-4.842677e+10</td>\n",
       "      <td>-1.138080e+11</td>\n",
       "      <td>-1.095245e+11</td>\n",
       "      <td>-4.867322e+10</td>\n",
       "      <td>-5.659928e+10</td>\n",
       "      <td>-8.084346e+10</td>\n",
       "      <td>-1.127357e+11</td>\n",
       "      <td>-7.623000e+10</td>\n",
       "      <td>-1.056753e+11</td>\n",
       "      <td>8.361083e+10</td>\n",
       "      <td>3</td>\n",
       "    </tr>\n",
       "    <tr>\n",
       "      <th>2</th>\n",
       "      <td>0.175353</td>\n",
       "      <td>0.004319</td>\n",
       "      <td>0.009086</td>\n",
       "      <td>0.000594</td>\n",
       "      <td>73</td>\n",
       "      <td>{'n_estimators': 73}</td>\n",
       "      <td>-3.505022e+11</td>\n",
       "      <td>-6.517483e+10</td>\n",
       "      <td>-4.952078e+10</td>\n",
       "      <td>-1.210957e+11</td>\n",
       "      <td>-1.164937e+11</td>\n",
       "      <td>-4.494920e+10</td>\n",
       "      <td>-5.185072e+10</td>\n",
       "      <td>-7.784168e+10</td>\n",
       "      <td>-1.198065e+11</td>\n",
       "      <td>-7.491520e+10</td>\n",
       "      <td>-1.072150e+11</td>\n",
       "      <td>8.577312e+10</td>\n",
       "      <td>7</td>\n",
       "    </tr>\n",
       "    <tr>\n",
       "      <th>3</th>\n",
       "      <td>0.184535</td>\n",
       "      <td>0.002037</td>\n",
       "      <td>0.009280</td>\n",
       "      <td>0.000637</td>\n",
       "      <td>74</td>\n",
       "      <td>{'n_estimators': 74}</td>\n",
       "      <td>-3.493135e+11</td>\n",
       "      <td>-6.281968e+10</td>\n",
       "      <td>-4.859521e+10</td>\n",
       "      <td>-1.163695e+11</td>\n",
       "      <td>-1.073743e+11</td>\n",
       "      <td>-4.703866e+10</td>\n",
       "      <td>-5.935079e+10</td>\n",
       "      <td>-8.681928e+10</td>\n",
       "      <td>-1.105856e+11</td>\n",
       "      <td>-7.375337e+10</td>\n",
       "      <td>-1.062020e+11</td>\n",
       "      <td>8.458823e+10</td>\n",
       "      <td>4</td>\n",
       "    </tr>\n",
       "    <tr>\n",
       "      <th>4</th>\n",
       "      <td>0.185214</td>\n",
       "      <td>0.004532</td>\n",
       "      <td>0.009528</td>\n",
       "      <td>0.000669</td>\n",
       "      <td>75</td>\n",
       "      <td>{'n_estimators': 75}</td>\n",
       "      <td>-3.436331e+11</td>\n",
       "      <td>-6.298198e+10</td>\n",
       "      <td>-4.765264e+10</td>\n",
       "      <td>-1.124780e+11</td>\n",
       "      <td>-1.123347e+11</td>\n",
       "      <td>-4.676737e+10</td>\n",
       "      <td>-5.870206e+10</td>\n",
       "      <td>-7.722225e+10</td>\n",
       "      <td>-1.241584e+11</td>\n",
       "      <td>-7.938236e+10</td>\n",
       "      <td>-1.065313e+11</td>\n",
       "      <td>8.331610e+10</td>\n",
       "      <td>5</td>\n",
       "    </tr>\n",
       "    <tr>\n",
       "      <th>5</th>\n",
       "      <td>0.205204</td>\n",
       "      <td>0.033265</td>\n",
       "      <td>0.010390</td>\n",
       "      <td>0.002329</td>\n",
       "      <td>76</td>\n",
       "      <td>{'n_estimators': 76}</td>\n",
       "      <td>-3.438079e+11</td>\n",
       "      <td>-6.386487e+10</td>\n",
       "      <td>-4.984401e+10</td>\n",
       "      <td>-1.215781e+11</td>\n",
       "      <td>-1.102290e+11</td>\n",
       "      <td>-4.709416e+10</td>\n",
       "      <td>-5.824107e+10</td>\n",
       "      <td>-8.325807e+10</td>\n",
       "      <td>-1.158666e+11</td>\n",
       "      <td>-7.283891e+10</td>\n",
       "      <td>-1.066623e+11</td>\n",
       "      <td>8.318814e+10</td>\n",
       "      <td>6</td>\n",
       "    </tr>\n",
       "    <tr>\n",
       "      <th>6</th>\n",
       "      <td>0.193234</td>\n",
       "      <td>0.037574</td>\n",
       "      <td>0.009501</td>\n",
       "      <td>0.001398</td>\n",
       "      <td>77</td>\n",
       "      <td>{'n_estimators': 77}</td>\n",
       "      <td>-3.440524e+11</td>\n",
       "      <td>-6.247803e+10</td>\n",
       "      <td>-4.747929e+10</td>\n",
       "      <td>-1.082365e+11</td>\n",
       "      <td>-1.102369e+11</td>\n",
       "      <td>-4.486475e+10</td>\n",
       "      <td>-5.403673e+10</td>\n",
       "      <td>-7.906604e+10</td>\n",
       "      <td>-1.220683e+11</td>\n",
       "      <td>-7.327831e+10</td>\n",
       "      <td>-1.045797e+11</td>\n",
       "      <td>8.395391e+10</td>\n",
       "      <td>1</td>\n",
       "    </tr>\n",
       "    <tr>\n",
       "      <th>7</th>\n",
       "      <td>0.182711</td>\n",
       "      <td>0.001927</td>\n",
       "      <td>0.009704</td>\n",
       "      <td>0.000347</td>\n",
       "      <td>78</td>\n",
       "      <td>{'n_estimators': 78}</td>\n",
       "      <td>-3.507545e+11</td>\n",
       "      <td>-6.637086e+10</td>\n",
       "      <td>-5.228022e+10</td>\n",
       "      <td>-1.135735e+11</td>\n",
       "      <td>-1.166225e+11</td>\n",
       "      <td>-5.258812e+10</td>\n",
       "      <td>-5.413130e+10</td>\n",
       "      <td>-7.488480e+10</td>\n",
       "      <td>-1.209357e+11</td>\n",
       "      <td>-7.154519e+10</td>\n",
       "      <td>-1.073687e+11</td>\n",
       "      <td>8.510821e+10</td>\n",
       "      <td>8</td>\n",
       "    </tr>\n",
       "  </tbody>\n",
       "</table>\n",
       "</div>"
      ],
      "text/plain": [
       "   mean_fit_time  std_fit_time  mean_score_time  std_score_time  \\\n",
       "0       0.195155      0.048095         0.010728        0.006661   \n",
       "1       0.186649      0.011719         0.009465        0.000854   \n",
       "2       0.175353      0.004319         0.009086        0.000594   \n",
       "3       0.184535      0.002037         0.009280        0.000637   \n",
       "4       0.185214      0.004532         0.009528        0.000669   \n",
       "5       0.205204      0.033265         0.010390        0.002329   \n",
       "6       0.193234      0.037574         0.009501        0.001398   \n",
       "7       0.182711      0.001927         0.009704        0.000347   \n",
       "\n",
       "  param_n_estimators                params  split0_test_score  \\\n",
       "0                 71  {'n_estimators': 71}      -3.458104e+11   \n",
       "1                 72  {'n_estimators': 72}      -3.457481e+11   \n",
       "2                 73  {'n_estimators': 73}      -3.505022e+11   \n",
       "3                 74  {'n_estimators': 74}      -3.493135e+11   \n",
       "4                 75  {'n_estimators': 75}      -3.436331e+11   \n",
       "5                 76  {'n_estimators': 76}      -3.438079e+11   \n",
       "6                 77  {'n_estimators': 77}      -3.440524e+11   \n",
       "7                 78  {'n_estimators': 78}      -3.507545e+11   \n",
       "\n",
       "   split1_test_score  split2_test_score  split3_test_score  split4_test_score  \\\n",
       "0      -6.302272e+10      -5.035020e+10      -1.119595e+11      -1.157403e+11   \n",
       "1      -6.416356e+10      -4.842677e+10      -1.138080e+11      -1.095245e+11   \n",
       "2      -6.517483e+10      -4.952078e+10      -1.210957e+11      -1.164937e+11   \n",
       "3      -6.281968e+10      -4.859521e+10      -1.163695e+11      -1.073743e+11   \n",
       "4      -6.298198e+10      -4.765264e+10      -1.124780e+11      -1.123347e+11   \n",
       "5      -6.386487e+10      -4.984401e+10      -1.215781e+11      -1.102290e+11   \n",
       "6      -6.247803e+10      -4.747929e+10      -1.082365e+11      -1.102369e+11   \n",
       "7      -6.637086e+10      -5.228022e+10      -1.135735e+11      -1.166225e+11   \n",
       "\n",
       "   split5_test_score  split6_test_score  split7_test_score  split8_test_score  \\\n",
       "0      -4.742932e+10      -5.654700e+10      -7.711517e+10      -1.161330e+11   \n",
       "1      -4.867322e+10      -5.659928e+10      -8.084346e+10      -1.127357e+11   \n",
       "2      -4.494920e+10      -5.185072e+10      -7.784168e+10      -1.198065e+11   \n",
       "3      -4.703866e+10      -5.935079e+10      -8.681928e+10      -1.105856e+11   \n",
       "4      -4.676737e+10      -5.870206e+10      -7.722225e+10      -1.241584e+11   \n",
       "5      -4.709416e+10      -5.824107e+10      -8.325807e+10      -1.158666e+11   \n",
       "6      -4.486475e+10      -5.403673e+10      -7.906604e+10      -1.220683e+11   \n",
       "7      -5.258812e+10      -5.413130e+10      -7.488480e+10      -1.209357e+11   \n",
       "\n",
       "   split9_test_score  mean_test_score  std_test_score  rank_test_score  \n",
       "0      -6.928239e+10    -1.053390e+11    8.410725e+10                2  \n",
       "1      -7.623000e+10    -1.056753e+11    8.361083e+10                3  \n",
       "2      -7.491520e+10    -1.072150e+11    8.577312e+10                7  \n",
       "3      -7.375337e+10    -1.062020e+11    8.458823e+10                4  \n",
       "4      -7.938236e+10    -1.065313e+11    8.331610e+10                5  \n",
       "5      -7.283891e+10    -1.066623e+11    8.318814e+10                6  \n",
       "6      -7.327831e+10    -1.045797e+11    8.395391e+10                1  \n",
       "7      -7.154519e+10    -1.073687e+11    8.510821e+10                8  "
      ]
     },
     "execution_count": 117,
     "metadata": {},
     "output_type": "execute_result"
    }
   ],
   "source": [
    "pd.DataFrame(model.cv_results_)"
   ]
  },
  {
   "cell_type": "code",
   "execution_count": 118,
   "metadata": {},
   "outputs": [],
   "source": [
    "def plot_cv_results(results, param):\n",
    "    plt.plot(results[param], results['mean_test_score'], c='red')\n",
    "    plt.xlabel(param)\n",
    "    plt.ylabel('mean_test_score')\n",
    "    plt.show()"
   ]
  },
  {
   "cell_type": "code",
   "execution_count": 121,
   "metadata": {},
   "outputs": [
    {
     "data": {
      "image/png": "[encoded data removed]",
      "text/plain": [
       "<Figure size 640x480 with 1 Axes>"
      ]
     },
     "metadata": {},
     "output_type": "display_data"
    }
   ],
   "source": [
    "plot_cv_results(model.cv_results_, 'param_n_estimators')"
   ]
  },
  {
   "cell_type": "code",
   "execution_count": 122,
   "metadata": {},
   "outputs": [
    {
     "name": "stderr",
     "output_type": "stream",
     "text": [
      "/tmp/ipykernel_5751/3680724346.py:8: DataConversionWarning: A column-vector y was passed when a 1d array was expected. Please change the shape of y to (n_samples,), for example using ravel().\n",
      "  forest.fit(X_train, y_train)\n"
     ]
    },
    {
     "data": {
      "text/html": [
       "<style>#sk-container-id-34 {color: black;background-color: white;}#sk-container-id-34 pre{padding: 0;}#sk-container-id-34 div.sk-toggleable {background-color: white;}#sk-container-id-34 label.sk-toggleable__label {cursor: pointer;display: block;width: 100%;margin-bottom: 0;padding: 0.3em;box-sizing: border-box;text-align: center;}#sk-container-id-34 label.sk-toggleable__label-arrow:before {content: \"▸\";float: left;margin-right: 0.25em;color: #696969;}#sk-container-id-34 label.sk-toggleable__label-arrow:hover:before {color: black;}#sk-container-id-34 div.sk-estimator:hover label.sk-toggleable__label-arrow:before {color: black;}#sk-container-id-34 div.sk-toggleable__content {max-height: 0;max-width: 0;overflow: hidden;text-align: left;background-color: #f0f8ff;}#sk-container-id-34 div.sk-toggleable__content pre {margin: 0.2em;color: black;border-radius: 0.25em;background-color: #f0f8ff;}#sk-container-id-34 input.sk-toggleable__control:checked~div.sk-toggleable__content {max-height: 200px;max-width: 100%;overflow: auto;}#sk-container-id-34 input.sk-toggleable__control:checked~label.sk-toggleable__label-arrow:before {content: \"▾\";}#sk-container-id-34 div.sk-estimator input.sk-toggleable__control:checked~label.sk-toggleable__label {background-color: #d4ebff;}#sk-container-id-34 div.sk-label input.sk-toggleable__control:checked~label.sk-toggleable__label {background-color: #d4ebff;}#sk-container-id-34 input.sk-hidden--visually {border: 0;clip: rect(1px 1px 1px 1px);clip: rect(1px, 1px, 1px, 1px);height: 1px;margin: -1px;overflow: hidden;padding: 0;position: absolute;width: 1px;}#sk-container-id-34 div.sk-estimator {font-family: monospace;background-color: #f0f8ff;border: 1px dotted black;border-radius: 0.25em;box-sizing: border-box;margin-bottom: 0.5em;}#sk-container-id-34 div.sk-estimator:hover {background-color: #d4ebff;}#sk-container-id-34 div.sk-parallel-item::after {content: \"\";width: 100%;border-bottom: 1px solid gray;flex-grow: 1;}#sk-container-id-34 div.sk-label:hover label.sk-toggleable__label {background-color: #d4ebff;}#sk-container-id-34 div.sk-serial::before {content: \"\";position: absolute;border-left: 1px solid gray;box-sizing: border-box;top: 0;bottom: 0;left: 50%;z-index: 0;}#sk-container-id-34 div.sk-serial {display: flex;flex-direction: column;align-items: center;background-color: white;padding-right: 0.2em;padding-left: 0.2em;position: relative;}#sk-container-id-34 div.sk-item {position: relative;z-index: 1;}#sk-container-id-34 div.sk-parallel {display: flex;align-items: stretch;justify-content: center;background-color: white;position: relative;}#sk-container-id-34 div.sk-item::before, #sk-container-id-34 div.sk-parallel-item::before {content: \"\";position: absolute;border-left: 1px solid gray;box-sizing: border-box;top: 0;bottom: 0;left: 50%;z-index: -1;}#sk-container-id-34 div.sk-parallel-item {display: flex;flex-direction: column;z-index: 1;position: relative;background-color: white;}#sk-container-id-34 div.sk-parallel-item:first-child::after {align-self: flex-end;width: 50%;}#sk-container-id-34 div.sk-parallel-item:last-child::after {align-self: flex-start;width: 50%;}#sk-container-id-34 div.sk-parallel-item:only-child::after {width: 0;}#sk-container-id-34 div.sk-dashed-wrapped {border: 1px dashed gray;margin: 0 0.4em 0.5em 0.4em;box-sizing: border-box;padding-bottom: 0.4em;background-color: white;}#sk-container-id-34 div.sk-label label {font-family: monospace;font-weight: bold;display: inline-block;line-height: 1.2em;}#sk-container-id-34 div.sk-label-container {text-align: center;}#sk-container-id-34 div.sk-container {/* jupyter's `normalize.less` sets `[hidden] { display: none; }` but bootstrap.min.css set `[hidden] { display: none !important; }` so we also need the `!important` here to be able to override the default hidden behavior on the sphinx rendered scikit-learn.org. See: https://github.com/scikit-learn/scikit-learn/issues/21755 */display: inline-block !important;position: relative;}#sk-container-id-34 div.sk-text-repr-fallback {display: none;}</style><div id=\"sk-container-id-34\" class=\"sk-top-container\"><div class=\"sk-text-repr-fallback\"><pre>RandomForestRegressor()</pre><b>In a Jupyter environment, please rerun this cell to show the HTML representation or trust the notebook. <br />On GitHub, the HTML representation is unable to render, please try loading this page with nbviewer.org.</b></div><div class=\"sk-container\" hidden><div class=\"sk-item\"><div class=\"sk-estimator sk-toggleable\"><input class=\"sk-toggleable__control sk-hidden--visually\" id=\"sk-estimator-id-68\" type=\"checkbox\" checked><label for=\"sk-estimator-id-68\" class=\"sk-toggleable__label sk-toggleable__label-arrow\">RandomForestRegressor</label><div class=\"sk-toggleable__content\"><pre>RandomForestRegressor()</pre></div></div></div></div></div>"
      ],
      "text/plain": [
       "RandomForestRegressor()"
      ]
     },
     "execution_count": 122,
     "metadata": {},
     "output_type": "execute_result"
    }
   ],
   "source": [
    "from sklearn.linear_model import LinearRegression\n",
    "from sklearn.ensemble import RandomForestRegressor\n",
    "\n",
    "linear = LinearRegression()\n",
    "linear.fit(X_train, y_train)\n",
    "\n",
    "forest = RandomForestRegressor()\n",
    "forest.fit(X_train, y_train)"
   ]
  },
  {
   "cell_type": "code",
   "execution_count": 125,
   "metadata": {},
   "outputs": [
    {
     "data": {
      "text/plain": [
       "(551483.1137158675, 71400.0)"
      ]
     },
     "execution_count": 125,
     "metadata": {},
     "output_type": "execute_result"
    }
   ],
   "source": [
    "from sklearn.metrics import mean_squared_error\n",
    "\n",
    "sample_idx = 115\n",
    "\n",
    "y_pred_linear = linear.predict([X_valid[sample_idx]])\n",
    "linear_mse = mean_squared_error(y_valid[sample_idx], y_pred_linear)\n",
    "linear_rmse = np.sqrt(linear_mse)\n",
    "\n",
    "y_pred_forest = forest.predict([X_valid[sample_idx]])\n",
    "forest_mse = mean_squared_error(y_valid[sample_idx], y_pred_forest)\n",
    "forest_rmse = np.sqrt(forest_mse)\n",
    "\n",
    "linear_rmse, forest_rmse"
   ]
  },
  {
   "cell_type": "code",
   "execution_count": 126,
   "metadata": {},
   "outputs": [
    {
     "data": {
      "text/plain": [
       "(array([[1301483.11371587]]), array([821400.]), array([750000]))"
      ]
     },
     "execution_count": 126,
     "metadata": {},
     "output_type": "execute_result"
    }
   ],
   "source": [
    "y_pred_linear, y_pred_forest, y_valid[sample_idx]"
   ]
  },
  {
   "cell_type": "code",
   "execution_count": 173,
   "metadata": {},
   "outputs": [
    {
     "data": {
      "text/plain": [
       "(2777, 6)"
      ]
     },
     "execution_count": 173,
     "metadata": {},
     "output_type": "execute_result"
    }
   ],
   "source": [
    "X_train.shape"
   ]
  },
  {
   "cell_type": "code",
   "execution_count": 175,
   "metadata": {},
   "outputs": [],
   "source": [
    "from keras.models import Sequential\n",
    "from keras.layers import Dense\n",
    "\n",
    "X_train.reshape(2777,6,1)\n",
    "\n",
    "model = Sequential([\n",
    "    LSTM(100, activation='relu', input_shape=(6,1)),\n",
    "    Dense(100, activation='relu'),\n",
    "    Dense(100, activation='relu'),\n",
    "    Dense(100, activation='relu'),\n",
    "    Dense(1)\n",
    "])"
   ]
  },
  {
   "cell_type": "code",
   "execution_count": 176,
   "metadata": {},
   "outputs": [
    {
     "name": "stdout",
     "output_type": "stream",
     "text": [
      "Epoch 1/20\n",
      "87/87 [==============================] - 4s 16ms/step - loss: 477035757568.0000 - val_loss: 329824108544.0000\n",
      "Epoch 2/20\n",
      "87/87 [==============================] - 1s 10ms/step - loss: 257629044736.0000 - val_loss: 273620271104.0000\n",
      "Epoch 3/20\n",
      "87/87 [==============================] - 1s 10ms/step - loss: 244195098624.0000 - val_loss: 273653940224.0000\n",
      "Epoch 4/20\n",
      "87/87 [==============================] - 1s 11ms/step - loss: 241771806720.0000 - val_loss: 268121325568.0000\n",
      "Epoch 5/20\n",
      "87/87 [==============================] - 1s 11ms/step - loss: 241286086656.0000 - val_loss: 267227496448.0000\n",
      "Epoch 6/20\n",
      "87/87 [==============================] - 1s 10ms/step - loss: 237605765120.0000 - val_loss: 266255630336.0000\n",
      "Epoch 7/20\n",
      "87/87 [==============================] - 1s 10ms/step - loss: 238128594944.0000 - val_loss: 265652682752.0000\n",
      "Epoch 8/20\n",
      "87/87 [==============================] - 1s 10ms/step - loss: 238112440320.0000 - val_loss: 265293971456.0000\n",
      "Epoch 9/20\n",
      "87/87 [==============================] - 1s 9ms/step - loss: 235165827072.0000 - val_loss: 265683124224.0000\n",
      "Epoch 10/20\n",
      "87/87 [==============================] - 1s 11ms/step - loss: 235402936320.0000 - val_loss: 270561116160.0000\n",
      "Epoch 11/20\n",
      "87/87 [==============================] - 1s 10ms/step - loss: 236840779776.0000 - val_loss: 263348584448.0000\n",
      "Epoch 12/20\n",
      "87/87 [==============================] - 1s 9ms/step - loss: 232766849024.0000 - val_loss: 262651871232.0000\n",
      "Epoch 13/20\n",
      "87/87 [==============================] - 1s 10ms/step - loss: 231841398784.0000 - val_loss: 262136086528.0000\n",
      "Epoch 14/20\n",
      "87/87 [==============================] - 1s 10ms/step - loss: 232213397504.0000 - val_loss: 264498315264.0000\n",
      "Epoch 15/20\n",
      "87/87 [==============================] - 1s 10ms/step - loss: 231807336448.0000 - val_loss: 266957225984.0000\n",
      "Epoch 16/20\n",
      "87/87 [==============================] - 1s 13ms/step - loss: 230062096384.0000 - val_loss: 259805839360.0000\n",
      "Epoch 17/20\n",
      "87/87 [==============================] - 1s 13ms/step - loss: 231318454272.0000 - val_loss: 268663570432.0000\n",
      "Epoch 18/20\n",
      "87/87 [==============================] - 1s 10ms/step - loss: 231489798144.0000 - val_loss: 256131137536.0000\n",
      "Epoch 19/20\n",
      "87/87 [==============================] - 1s 11ms/step - loss: 227814342656.0000 - val_loss: 258453471232.0000\n",
      "Epoch 20/20\n",
      "87/87 [==============================] - 1s 13ms/step - loss: 226193309696.0000 - val_loss: 251812413440.0000\n"
     ]
    },
    {
     "data": {
      "text/plain": [
       "<keras.callbacks.History at 0x7f459c19df60>"
      ]
     },
     "execution_count": 176,
     "metadata": {},
     "output_type": "execute_result"
    }
   ],
   "source": [
    "model.compile(optimizer='adam', loss='mse')\n",
    "model.fit(X_train, y_train, epochs=20, validation_data=(X_valid, y_valid))"
   ]
  },
  {
   "cell_type": "code",
   "execution_count": 177,
   "metadata": {},
   "outputs": [
    {
     "name": "stdout",
     "output_type": "stream",
     "text": [
      "22/22 [==============================] - 0s 4ms/step\n"
     ]
    }
   ],
   "source": [
    "y_pred = model.predict(X_valid.reshape(695,6,1))"
   ]
  },
  {
   "cell_type": "code",
   "execution_count": 178,
   "metadata": {},
   "outputs": [
    {
     "data": {
      "text/plain": [
       "array([ 0.7021665 , -0.47518189, -0.87802471,  1.46391143,  3.00577479,\n",
       "       -0.63338357])"
      ]
     },
     "execution_count": 178,
     "metadata": {},
     "output_type": "execute_result"
    }
   ],
   "source": [
    "X_valid[sample_idx]"
   ]
  },
  {
   "cell_type": "code",
   "execution_count": 179,
   "metadata": {},
   "outputs": [
    {
     "data": {
      "text/plain": [
       "(array([750000]), array([648646.75], dtype=float32))"
      ]
     },
     "execution_count": 179,
     "metadata": {},
     "output_type": "execute_result"
    }
   ],
   "source": [
    "y_valid[sample_idx], y_pred[sample_idx]"
   ]
  },
  {
   "cell_type": "code",
   "execution_count": 183,
   "metadata": {},
   "outputs": [
    {
     "data": {
      "text/plain": [
       "(501809.13742046256, 551483.1137158675, 71400.0)"
      ]
     },
     "execution_count": 183,
     "metadata": {},
     "output_type": "execute_result"
    }
   ],
   "source": [
    "nn_mse = mean_squared_error(y_valid, y_pred)\n",
    "nn_rmse = np.sqrt(nn_mse)\n",
    "nn_rmse, linear_rmse, forest_rmse"
   ]
  }
 ],
 "metadata": {
  "kernelspec": {
   "display_name": "tf",
   "language": "python",
   "name": "python3"
  },
  "language_info": {
   "codemirror_mode": {
    "name": "ipython",
    "version": 3
   },
   "file_extension": ".py",
   "mimetype": "text/x-python",
   "name": "python",
   "nbconvert_exporter": "python",
   "pygments_lexer": "ipython3",
   "version": "3.10.8"
  },
  "orig_nbformat": 4,
  "vscode": {
   "interpreter": {
    "hash": "3b0aa965317cfd9b7f627f76b53dc5fd0eb452297bd10ba63e8cb1466a4239f8"
   }
  }
 },
 "nbformat": 4,
 "nbformat_minor": 2
}
